{
    "nbformat_minor": 1, 
    "cells": [
        {
            "execution_count": 5, 
            "cell_type": "code", 
            "metadata": {
                "scrolled": true
            }, 
            "outputs": [
                {
                    "output_type": "stream", 
                    "name": "stdout", 
                    "text": "109\nabcdefghijhlmnopqrstuvwxyz12345678900000\n"
                }
            ], 
            "source": "1+1\nx=9+100\nprint(x)\nmine=\"xyzzy_cc2722e55e9f0ca5f2038f41ffaebb974c53f2c1\"\nyours=\"abcdefghijhlmnopqrstuvwxyz12345678900000\"\nprint(yours)"
        }, 
        {
            "source": "# Main Heading\n## Chapter 1  \nNow is the time for all good people to come to the aid of their country.\n## Chapter 2\n", 
            "cell_type": "markdown", 
            "metadata": {}
        }, 
        {
            "execution_count": null, 
            "cell_type": "code", 
            "metadata": {}, 
            "outputs": [], 
            "source": ""
        }
    ], 
    "metadata": {
        "kernelspec": {
            "display_name": "Python 3.5 with Spark", 
            "name": "python3", 
            "language": "python3"
        }, 
        "language_info": {
            "mimetype": "text/x-python", 
            "nbconvert_exporter": "python", 
            "version": "3.5.4", 
            "name": "python", 
            "file_extension": ".py", 
            "pygments_lexer": "ipython3", 
            "codemirror_mode": {
                "version": 3, 
                "name": "ipython"
            }
        }, 
        "celltoolbar": "Edit Metadata"
    }, 
    "nbformat": 4
}